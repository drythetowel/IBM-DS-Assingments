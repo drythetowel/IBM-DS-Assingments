{
  "metadata": {
    "kernelspec": {
      "name": "python",
      "display_name": "Python (Pyodide)",
      "language": "python"
    },
    "language_info": {
      "codemirror_mode": {
        "name": "python",
        "version": 3
      },
      "file_extension": ".py",
      "mimetype": "text/x-python",
      "name": "python",
      "nbconvert_exporter": "python",
      "pygments_lexer": "ipython3",
      "version": "3.8"
    }
  },
  "nbformat_minor": 5,
  "nbformat": 4,
  "cells": [
    {
      "id": "2cdc2c1f-430f-4004-a693-d3179c12ed5c",
      "cell_type": "markdown",
      "source": "# Data Science Tools and Ecosystem",
      "metadata": {}
    },
    {
      "id": "ffb89bfe-9f9f-402b-b85b-0ac63e2e1ffc",
      "cell_type": "markdown",
      "source": "In this notebook, Data Science Tools and Ecosystem are summarized.",
      "metadata": {},
      "attachments": {}
    },
    {
      "id": "a9127386-8ceb-44da-9325-7da2e53cf1fa",
      "cell_type": "markdown",
      "source": "**Objectives:**\n* List Popular Lnguages used by Data Scientists\n* List commonly used Libraries by Data Scientists\n* List some of the Tools used by Data Scientis\n* Demonstrate Arithmentic Operations",
      "metadata": {}
    },
    {
      "id": "3e084472-0197-43d4-8c54-673dd5b4892b",
      "cell_type": "markdown",
      "source": "Some of the popular languages that Data Scientists use are:\n1. Python\n2. R\n3. Scala\n4. C++",
      "metadata": {}
    },
    {
      "id": "8a5f0bd9-fcfe-40ee-8a5a-71b7953c0391",
      "cell_type": "markdown",
      "source": "Some of the commonly used libraries used by Data Scientists include:\n1. Pandas\n2. NumPy\n3. Matplotlib\n4. ggplot",
      "metadata": {}
    },
    {
      "id": "328c6ef7-82dc-4d9d-9534-cb70ab59c659",
      "cell_type": "markdown",
      "source": "| Data Science Tools |\n|:---:|\n| Python |\n| R |\n| PowerBI |\n| Tableau |\n| Dadoop |\n| SQL and NoSQL Databases ",
      "metadata": {}
    },
    {
      "id": "6fc5ea30-6e2e-4726-9ff0-fcc70111d54a",
      "cell_type": "markdown",
      "source": "### Below are a few examples of evaluating arithmetic expressions in Python.",
      "metadata": {}
    },
    {
      "id": "3565707a-083f-44e0-84f9-1a8f08456755",
      "cell_type": "code",
      "source": "#  This a simple arithmetic expression to mutiply then add integers\n(3*4)+5",
      "metadata": {
        "trusted": true
      },
      "outputs": [
        {
          "execution_count": 1,
          "output_type": "execute_result",
          "data": {
            "text/plain": "17"
          },
          "metadata": {}
        }
      ],
      "execution_count": 1
    },
    {
      "id": "d2b088c8-0407-4cd0-9a0f-6ded840355a2",
      "cell_type": "code",
      "source": "#  This will convert 200 minutes to hours by diving by 60\n200/60",
      "metadata": {
        "trusted": true
      },
      "outputs": [
        {
          "execution_count": 2,
          "output_type": "execute_result",
          "data": {
            "text/plain": "3.3333333333333335"
          },
          "metadata": {}
        }
      ],
      "execution_count": 2
    },
    {
      "id": "1bf3f005-bed8-41ed-aef4-1848772d8fe1",
      "cell_type": "markdown",
      "source": "## Author\nSheik Sufyan",
      "metadata": {}
    },
    {
      "id": "890fd27e-7608-4040-8253-84ac7691cc0e",
      "cell_type": "code",
      "source": "",
      "metadata": {
        "trusted": true
      },
      "outputs": [],
      "execution_count": null
    }
  ]
}